{
 "cells": [
  {
   "cell_type": "code",
   "execution_count": 2,
   "metadata": {},
   "outputs": [],
   "source": [
    "import requests\n",
    "from bs4 import BeautifulSoup"
   ]
  },
  {
   "cell_type": "code",
   "execution_count": 3,
   "metadata": {},
   "outputs": [
    {
     "data": {
      "text/plain": [
       "<Response [200]>"
      ]
     },
     "execution_count": 3,
     "metadata": {},
     "output_type": "execute_result"
    }
   ],
   "source": [
    "url = \"http://www.shuquge.com/txt/8659/index.html\"\n",
    "headers ={\n",
    "    'User-Agent':'Mozilla/5.0 (Windows NT 10.0; Win64; x64) AppleWebKit/537.36 (KHTML, like Gecko) Chrome/87.0.4280.88 Safari/537.36'\n",
    "         }\n",
    "r = requests.get(url,headers = headers)\n",
    "r"
   ]
  },
  {
   "cell_type": "code",
   "execution_count": 4,
   "metadata": {},
   "outputs": [],
   "source": [
    "r.encoding = r.apparent_encoding"
   ]
  },
  {
   "cell_type": "code",
   "execution_count": 5,
   "metadata": {},
   "outputs": [
    {
     "data": {
      "text/plain": [
       "<div class=\"link\">\n",
       "<span>推荐阅读：\n",
       "     <a href=\"http://www.shuquge.com/txt/5809/index.html\">元尊</a>\n",
       "、     <a href=\"http://www.shuquge.com/txt/38287/index.html\">逆剑狂神</a>\n",
       "、     <a href=\"http://www.shuquge.com/txt/13139/index.html\">修真四万年</a>\n",
       "、     <a href=\"http://www.shuquge.com/txt/79470/index.html\">都市超级医仙</a>\n",
       "、     <a href=\"http://www.shuquge.com/txt/7816/index.html\">沧元图</a>\n",
       "、     <a href=\"http://www.shuquge.com/txt/107868/index.html\">首充六元的剑</a>\n",
       "、     <a href=\"http://www.shuquge.com/txt/70/index.html\">大主宰</a>\n",
       "、     <a href=\"http://www.shuquge.com/txt/84372/index.html\">踏星</a>\n",
       "、     <a href=\"http://www.shuquge.com/txt/73674/index.html\">一品道门</a>\n",
       "、     <a href=\"http://www.shuquge.com/txt/37426/index.html\">末世大回炉</a>\n",
       "</span>\n",
       "</div>"
      ]
     },
     "execution_count": 5,
     "metadata": {},
     "output_type": "execute_result"
    }
   ],
   "source": [
    "bs =BeautifulSoup(r.text,'lxml')\n",
    "bs.find('div','link')"
   ]
  },
  {
   "cell_type": "code",
   "execution_count": 6,
   "metadata": {},
   "outputs": [
    {
     "data": {
      "text/plain": [
       "[<a href=\"http://www.shuquge.com/txt/5809/index.html\">元尊</a>,\n",
       " <a href=\"http://www.shuquge.com/txt/38287/index.html\">逆剑狂神</a>,\n",
       " <a href=\"http://www.shuquge.com/txt/13139/index.html\">修真四万年</a>,\n",
       " <a href=\"http://www.shuquge.com/txt/79470/index.html\">都市超级医仙</a>,\n",
       " <a href=\"http://www.shuquge.com/txt/7816/index.html\">沧元图</a>,\n",
       " <a href=\"http://www.shuquge.com/txt/107868/index.html\">首充六元的剑</a>,\n",
       " <a href=\"http://www.shuquge.com/txt/70/index.html\">大主宰</a>,\n",
       " <a href=\"http://www.shuquge.com/txt/84372/index.html\">踏星</a>,\n",
       " <a href=\"http://www.shuquge.com/txt/73674/index.html\">一品道门</a>,\n",
       " <a href=\"http://www.shuquge.com/txt/37426/index.html\">末世大回炉</a>]"
      ]
     },
     "execution_count": 6,
     "metadata": {},
     "output_type": "execute_result"
    }
   ],
   "source": [
    "link =bs.find('div','link')\n",
    "link.find_all('a')"
   ]
  },
  {
   "cell_type": "code",
   "execution_count": 7,
   "metadata": {},
   "outputs": [
    {
     "data": {
      "text/plain": [
       "['元尊',\n",
       " '逆剑狂神',\n",
       " '修真四万年',\n",
       " '都市超级医仙',\n",
       " '沧元图',\n",
       " '首充六元的剑',\n",
       " '大主宰',\n",
       " '踏星',\n",
       " '一品道门',\n",
       " '末世大回炉']"
      ]
     },
     "execution_count": 7,
     "metadata": {},
     "output_type": "execute_result"
    }
   ],
   "source": [
    "#提取小说名称\n",
    "novel = [i.text for i in link.find_all('a')]\n",
    "novel"
   ]
  },
  {
   "cell_type": "code",
   "execution_count": 8,
   "metadata": {},
   "outputs": [],
   "source": [
    "#提取小说封面\n",
    "image_url = bs.find('img',alt ='剑来')['src']\n",
    "r = requests.get(image_url,headers = headers)\n",
    "f = open('jian.jpg','wb')\n",
    "f.write(r.content)\n",
    "f.close()"
   ]
  },
  {
   "cell_type": "code",
   "execution_count": null,
   "metadata": {},
   "outputs": [],
   "source": [
    "#提取小说信息\n"
   ]
  }
 ],
 "metadata": {
  "kernelspec": {
   "display_name": "Python 3",
   "language": "python",
   "name": "python3"
  },
  "language_info": {
   "codemirror_mode": {
    "name": "ipython",
    "version": 3
   },
   "file_extension": ".py",
   "mimetype": "text/x-python",
   "name": "python",
   "nbconvert_exporter": "python",
   "pygments_lexer": "ipython3",
   "version": "3.8.3"
  },
  "toc": {
   "base_numbering": 1,
   "nav_menu": {},
   "number_sections": true,
   "sideBar": true,
   "skip_h1_title": false,
   "title_cell": "Table of Contents",
   "title_sidebar": "Contents",
   "toc_cell": false,
   "toc_position": {},
   "toc_section_display": true,
   "toc_window_display": false
  }
 },
 "nbformat": 4,
 "nbformat_minor": 4
}
